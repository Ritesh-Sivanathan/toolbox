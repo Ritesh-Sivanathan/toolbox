{
 "cells": [
  {
   "cell_type": "markdown",
   "id": "abdc88bd",
   "metadata": {},
   "source": [
    "#### This notebook demonstrates basic usage of my custom `Matrix` class, showing common linear algebra operations implemented from scratch in Python.\n",
    "\n",
    "Let's begin by importing the `Matrix` object and defining a `2x2` matrix"
   ]
  },
  {
   "cell_type": "code",
   "execution_count": 1,
   "id": "4b43a9f1-75e4-41db-8311-26f4d071a364",
   "metadata": {},
   "outputs": [],
   "source": [
    "from mathematics.linear_algebra.matrices import Matrix"
   ]
  },
  {
   "cell_type": "markdown",
   "id": "040e000a",
   "metadata": {},
   "source": [
    "<hr>\n",
    "\n",
    "### Matrix Inititialization\n",
    "\n",
    "Matrix Initialization using this toolbox is very simple. You can:"
   ]
  },
  {
   "cell_type": "markdown",
   "id": "d028892d",
   "metadata": {},
   "source": [
    "Define a matrix using an `nxn` array..."
   ]
  },
  {
   "cell_type": "code",
   "execution_count": 2,
   "id": "233c7fe9",
   "metadata": {},
   "outputs": [
    {
     "name": "stdout",
     "output_type": "stream",
     "text": [
      "Matrix(3, 3, \"man\")\n"
     ]
    }
   ],
   "source": [
    "matrix = [[1,2,3],[4,5,6],[7,8,9]]\n",
    "print(Matrix(man=matrix))"
   ]
  },
  {
   "cell_type": "markdown",
   "id": "4049638b",
   "metadata": {},
   "source": [
    "Define a matrix using random values..."
   ]
  },
  {
   "cell_type": "code",
   "execution_count": 3,
   "id": "a47d29e6",
   "metadata": {},
   "outputs": [
    {
     "name": "stdout",
     "output_type": "stream",
     "text": [
      "[[0, 4, 1], [5, 2, 4], [5, 1, 1]]\n"
     ]
    }
   ],
   "source": [
    "MR = Matrix(r=3, c=3, mode=\"rand\")\n",
    "print(MR.matrix)"
   ]
  },
  {
   "cell_type": "markdown",
   "id": "b6024031",
   "metadata": {},
   "source": [
    "Define a matrix by filling it with one specific value..."
   ]
  },
  {
   "cell_type": "code",
   "execution_count": 4,
   "id": "ac59bc02",
   "metadata": {},
   "outputs": [
    {
     "name": "stdout",
     "output_type": "stream",
     "text": [
      "[[1, 1, 1], [1, 1, 1], [1, 1, 1]]\n"
     ]
    }
   ],
   "source": [
    "MF = Matrix(r=3, c=3, mode=\"fill\", fill=1)\n",
    "print(MF.matrix)"
   ]
  },
  {
   "cell_type": "markdown",
   "id": "a4271d4b",
   "metadata": {},
   "source": [
    "For the following examples, we will use the matrix `M`, a simple 2x2 matrix."
   ]
  },
  {
   "cell_type": "code",
   "execution_count": 5,
   "id": "7160b3cb",
   "metadata": {},
   "outputs": [],
   "source": [
    "M = Matrix(man=[[1,2],[3,4]])"
   ]
  },
  {
   "cell_type": "markdown",
   "id": "a7652299",
   "metadata": {},
   "source": [
    "<hr>  \n",
    "\n",
    "### Matrix Properties\n",
    "\n",
    "This `Matrix` object has some properties we can easily see:"
   ]
  },
  {
   "cell_type": "markdown",
   "id": "eca4f9d9",
   "metadata": {},
   "source": [
    "The matrix itself..."
   ]
  },
  {
   "cell_type": "code",
   "execution_count": 6,
   "id": "520e4d04",
   "metadata": {},
   "outputs": [
    {
     "name": "stdout",
     "output_type": "stream",
     "text": [
      "[[1, 2], [3, 4]]\n"
     ]
    }
   ],
   "source": [
    "print(M.matrix)"
   ]
  },
  {
   "cell_type": "markdown",
   "id": "226c3a23",
   "metadata": {},
   "source": [
    "The \\# of <b> rows </b> and the \\# of <b> columns </b> in the matrix..."
   ]
  },
  {
   "cell_type": "code",
   "execution_count": 7,
   "id": "c3cae572",
   "metadata": {},
   "outputs": [
    {
     "name": "stdout",
     "output_type": "stream",
     "text": [
      "2 2\n"
     ]
    }
   ],
   "source": [
    "print(M.r, M.c)"
   ]
  },
  {
   "cell_type": "markdown",
   "id": "fb6d76dc",
   "metadata": {},
   "source": [
    "And the object representation of the Matrix..."
   ]
  },
  {
   "cell_type": "code",
   "execution_count": 8,
   "id": "96fa357c",
   "metadata": {},
   "outputs": [
    {
     "name": "stdout",
     "output_type": "stream",
     "text": [
      "Matrix(2, 2, \"man\")\n"
     ]
    }
   ],
   "source": [
    "print(M)"
   ]
  },
  {
   "cell_type": "markdown",
   "id": "23d61909",
   "metadata": {},
   "source": [
    "<hr>\n",
    "\n",
    "### Matrix Functions\n",
    "\n",
    "The `Matrix` object also provides us with various functions to apply to the matrix"
   ]
  },
  {
   "cell_type": "markdown",
   "id": "8359207b",
   "metadata": {},
   "source": [
    "The determinant of the matrix `M`..."
   ]
  },
  {
   "cell_type": "code",
   "execution_count": 9,
   "id": "a4e24154-dae7-490a-856a-63e8fe171f95",
   "metadata": {},
   "outputs": [
    {
     "name": "stdout",
     "output_type": "stream",
     "text": [
      "-2\n"
     ]
    }
   ],
   "source": [
    "print(M.det())"
   ]
  },
  {
   "cell_type": "markdown",
   "id": "1bcdcd4a",
   "metadata": {},
   "source": [
    "The adjoint of the matrix..."
   ]
  },
  {
   "cell_type": "code",
   "execution_count": 10,
   "id": "d93a0da0",
   "metadata": {},
   "outputs": [
    {
     "name": "stdout",
     "output_type": "stream",
     "text": [
      "[[4, -2], [-3, 1]]\n"
     ]
    }
   ],
   "source": [
    "print(M.adjoint().show())"
   ]
  },
  {
   "cell_type": "markdown",
   "id": "2a84f6e0",
   "metadata": {},
   "source": [
    "The cofactor matrix..."
   ]
  },
  {
   "cell_type": "code",
   "execution_count": 11,
   "id": "0c64259d",
   "metadata": {},
   "outputs": [
    {
     "name": "stdout",
     "output_type": "stream",
     "text": [
      "[[4, -3], [-2, 1]]\n"
     ]
    }
   ],
   "source": [
    "print(M.cof().show())"
   ]
  },
  {
   "cell_type": "markdown",
   "id": "6275cb7a",
   "metadata": {},
   "source": [
    "The tranpose of the matrix..."
   ]
  },
  {
   "cell_type": "code",
   "execution_count": 12,
   "id": "829c7a0b",
   "metadata": {},
   "outputs": [
    {
     "name": "stdout",
     "output_type": "stream",
     "text": [
      "[[1, 3], [2, 4]]\n"
     ]
    }
   ],
   "source": [
    "print(M.T().show())"
   ]
  },
  {
   "cell_type": "markdown",
   "id": "0e622267",
   "metadata": {},
   "source": [
    "And the inverse of the matrix..."
   ]
  },
  {
   "cell_type": "code",
   "execution_count": 13,
   "id": "f5ebcdcc",
   "metadata": {},
   "outputs": [
    {
     "name": "stdout",
     "output_type": "stream",
     "text": [
      "[[-2.0, 1.0], [1.5, -0.5]]\n"
     ]
    }
   ],
   "source": [
    "print(M.inverse().show())"
   ]
  },
  {
   "cell_type": "markdown",
   "id": "d7b7b4a9",
   "metadata": {},
   "source": [
    "We also support scalar by matrix multiplication:"
   ]
  },
  {
   "cell_type": "code",
   "execution_count": 14,
   "id": "ae1fc657",
   "metadata": {},
   "outputs": [
    {
     "name": "stdout",
     "output_type": "stream",
     "text": [
      "[[2, 4], [6, 8]]\n"
     ]
    }
   ],
   "source": [
    "scalar = 2 \n",
    "multiplied = M*scalar # Each element in the matrix multiplied by 2\n",
    "\n",
    "print(multiplied.show())"
   ]
  }
 ],
 "metadata": {
  "kernelspec": {
   "display_name": "env (3.13.5)",
   "language": "python",
   "name": "python3"
  },
  "language_info": {
   "codemirror_mode": {
    "name": "ipython",
    "version": 3
   },
   "file_extension": ".py",
   "mimetype": "text/x-python",
   "name": "python",
   "nbconvert_exporter": "python",
   "pygments_lexer": "ipython3",
   "version": "3.13.5"
  }
 },
 "nbformat": 4,
 "nbformat_minor": 5
}
